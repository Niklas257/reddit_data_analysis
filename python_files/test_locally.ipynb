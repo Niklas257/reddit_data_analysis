{
 "cells": [
  {
   "cell_type": "code",
   "execution_count": 1,
   "metadata": {},
   "outputs": [
    {
     "name": "stdout",
     "output_type": "stream",
     "text": [
      "[2025-04-08 08:53:22] Monitoring during execution | CPU: 100.0% | Mem: 176.4 MB | Threads: 42\n",
      "[2025-04-08 08:53:23] initial resources | CPU: 3.0% | Mem: 177.4 MB | Threads: 57\n",
      "[2025-04-08 08:53:24] threads set to 20 | CPU: 1.0% | Mem: 178.6 MB | Threads: 61\n"
     ]
    },
    {
     "name": "stdout",
     "output_type": "stream",
     "text": [
      "[2025-04-08 08:53:33] Monitoring during execution | CPU: 0.0% | Mem: 185.2 MB | Threads: 61\n",
      "[2025-04-08 08:53:44] Monitoring during execution | CPU: 0.0% | Mem: 185.2 MB | Threads: 61\n",
      "[2025-04-08 08:53:55] Monitoring during execution | CPU: 0.0% | Mem: 186.3 MB | Threads: 61\n",
      "[2025-04-08 08:54:06] Monitoring during execution | CPU: 0.0% | Mem: 186.3 MB | Threads: 61\n",
      "[2025-04-08 08:54:17] Monitoring during execution | CPU: 0.0% | Mem: 186.3 MB | Threads: 61\n",
      "[2025-04-08 08:54:28] Monitoring during execution | CPU: 0.0% | Mem: 186.3 MB | Threads: 61\n",
      "[2025-04-08 08:54:39] Monitoring during execution | CPU: 0.0% | Mem: 186.3 MB | Threads: 61\n",
      "[2025-04-08 08:54:50] Monitoring during execution | CPU: 0.0% | Mem: 186.3 MB | Threads: 61\n",
      "[2025-04-08 08:55:01] Monitoring during execution | CPU: 0.0% | Mem: 186.3 MB | Threads: 61\n",
      "[2025-04-08 08:55:12] Monitoring during execution | CPU: 0.0% | Mem: 186.3 MB | Threads: 61\n",
      "[2025-04-08 08:55:23] Monitoring during execution | CPU: 0.0% | Mem: 186.3 MB | Threads: 61\n",
      "[2025-04-08 08:55:34] Monitoring during execution | CPU: 0.0% | Mem: 186.3 MB | Threads: 61\n",
      "[2025-04-08 08:55:45] Monitoring during execution | CPU: 0.0% | Mem: 186.3 MB | Threads: 61\n",
      "[2025-04-08 08:55:56] Monitoring during execution | CPU: 0.0% | Mem: 186.3 MB | Threads: 61\n",
      "[2025-04-08 08:56:07] Monitoring during execution | CPU: 0.0% | Mem: 186.3 MB | Threads: 61\n",
      "[2025-04-08 08:56:18] Monitoring during execution | CPU: 0.0% | Mem: 186.3 MB | Threads: 61\n",
      "[2025-04-08 08:56:29] Monitoring during execution | CPU: 0.0% | Mem: 186.3 MB | Threads: 61\n"
     ]
    }
   ],
   "source": [
    "import duckdb\n",
    "import json\n",
    "import threading\n",
    "import time\n",
    "from create_database import (\n",
    "    create_lookup_table,\n",
    "    create_subreddit_tables,\n",
    "    create_threads_table,\n",
    ")\n",
    "from stats import (\n",
    "    create_row_counts_table,\n",
    "    get_depth_distribution,\n",
    "    get_number_of_threads,\n",
    "    get_thread_score_distribution,\n",
    "    get_subreddit_distribution,\n",
    "    table_stats,\n",
    "    calculate_weighted_average,\n",
    "    get_thread_lengths,\n",
    "    get_author_distribution,\n",
    "    log_with_resources,\n",
    ")\n",
    "\n",
    "from filter_database import make_threads_unique, filter_threads\n",
    "\n",
    "monitoring_active = True\n",
    "\n",
    "\n",
    "def continuous_resource_monitor(interval=1800):\n",
    "    while monitoring_active:\n",
    "        log_with_resources(\"Monitoring during execution\")\n",
    "        time.sleep(interval)\n",
    "\n",
    "\n",
    "# Start the background monitoring thread\n",
    "monitor_thread = threading.Thread(target=continuous_resource_monitor, args=(10,))\n",
    "monitor_thread.daemon = True  # will exit when main thread exits\n",
    "monitor_thread.start()\n",
    "\n",
    "con = duckdb.connect(\"../data/database.db\")\n",
    "log_with_resources(\"initial resources\")\n",
    "con.execute(\"SET threads TO 20;\")\n",
    "con.execute(\"PRAGMA verify_parallelism;\")\n",
    "log_with_resources(\"threads set to 20\")"
   ]
  },
  {
   "cell_type": "code",
   "execution_count": 4,
   "metadata": {},
   "outputs": [
    {
     "name": "stdout",
     "output_type": "stream",
     "text": [
      "[2025-04-08 08:55:56] Row counts table created and saved to file. | CPU: 0.0% | Mem: 186.3 MB | Threads: 61\n"
     ]
    }
   ],
   "source": [
    "create_row_counts_table(con)"
   ]
  },
  {
   "cell_type": "code",
   "execution_count": 3,
   "metadata": {},
   "outputs": [
    {
     "name": "stdout",
     "output_type": "stream",
     "text": [
      "Valid hierarchical tables: ['posts', 'comments_to_posts', 'comments_to_comments_1', 'comments_to_comments_2', 'comments_to_comments_3', 'comments_to_comments_4', 'comments_to_comments_5', 'comments_to_comments_6', 'comments_to_comments_7', 'comments_to_comments_8', 'comments_to_comments_9', 'comments_to_comments_10', 'comments_to_comments_11', 'comments_to_comments_12', 'comments_to_comments_13', 'comments_to_comments_14', 'comments_to_comments_15', 'comments_to_comments_16', 'comments_to_comments_17', 'comments_to_comments_18', 'comments_to_comments_19', 'comments_to_comments_20', 'comments_to_comments_21', 'comments_to_comments_22', 'comments_to_comments_23', 'comments_to_comments_24', 'comments_to_comments_25', 'comments_to_comments_26', 'comments_to_comments_27', 'comments_to_comments_28', 'comments_to_comments_29', 'comments_to_comments_30', 'comments_to_comments_31', 'comments_to_comments_32', 'comments_to_comments_33', 'comments_to_comments_34', 'comments_to_comments_35', 'comments_to_comments_36', 'comments_to_comments_37', 'comments_to_comments_38', 'comments_to_comments_39', 'comments_to_comments_40', 'comments_to_comments_41', 'comments_to_comments_42', 'comments_to_comments_43', 'comments_to_comments_44', 'comments_to_comments_45', 'comments_to_comments_46', 'comments_to_comments_47', 'comments_to_comments_48', 'comments_to_comments_49', 'comments_to_comments_50', 'comments_to_comments_51', 'comments_to_comments_52', 'comments_to_comments_53', 'comments_to_comments_54', 'comments_to_comments_55', 'comments_to_comments_56', 'comments_to_comments_57', 'comments_to_comments_58', 'comments_to_comments_59', 'comments_to_comments_60', 'comments_to_comments_61', 'comments_to_comments_62', 'comments_to_comments_63', 'comments_to_comments_64', 'comments_to_comments_65', 'comments_to_comments_66', 'comments_to_comments_67', 'comments_to_comments_68', 'comments_to_comments_69', 'comments_to_comments_70', 'comments_to_comments_71', 'comments_to_comments_72', 'comments_to_comments_73', 'comments_to_comments_74', 'comments_to_comments_75', 'comments_to_comments_76', 'comments_to_comments_77', 'comments_to_comments_78', 'comments_to_comments_79', 'comments_to_comments_80', 'comments_to_comments_81', 'comments_to_comments_82', 'comments_to_comments_83', 'comments_to_comments_84', 'comments_to_comments_85', 'comments_to_comments_86', 'comments_to_comments_87', 'comments_to_comments_88', 'comments_to_comments_89', 'comments_to_comments_90', 'comments_to_comments_91', 'comments_to_comments_92', 'comments_to_comments_93', 'comments_to_comments_94', 'comments_to_comments_95', 'comments_to_comments_96', 'comments_to_comments_97', 'comments_to_comments_98', 'comments_to_comments_99', 'comments_to_comments_100', 'comments_to_comments_101', 'comments_to_comments_102', 'comments_to_comments_103', 'comments_to_comments_104', 'comments_to_comments_105', 'comments_to_comments_106', 'comments_to_comments_107', 'comments_to_comments_108', 'comments_to_comments_109', 'comments_to_comments_110', 'comments_to_comments_111', 'comments_to_comments_112', 'comments_to_comments_113', 'comments_to_comments_114', 'comments_to_comments_115', 'comments_to_comments_116', 'comments_to_comments_117', 'comments_to_comments_118', 'comments_to_comments_119', 'comments_to_comments_120', 'comments_to_comments_121', 'comments_to_comments_122', 'comments_to_comments_123', 'comments_to_comments_124', 'comments_to_comments_125', 'comments_to_comments_126', 'comments_to_comments_127', 'comments_to_comments_128', 'comments_to_comments_129', 'comments_to_comments_130', 'comments_to_comments_131', 'comments_to_comments_132', 'comments_to_comments_133', 'comments_to_comments_134', 'comments_to_comments_135', 'comments_to_comments_136', 'comments_to_comments_137', 'comments_to_comments_138', 'comments_to_comments_139', 'comments_to_comments_140', 'comments_to_comments_141', 'comments_to_comments_142', 'comments_to_comments_143', 'comments_to_comments_144', 'comments_to_comments_145', 'comments_to_comments_146', 'comments_to_comments_147', 'comments_to_comments_148', 'comments_to_comments_149', 'comments_to_comments_150', 'comments_to_comments_151', 'comments_to_comments_152', 'comments_to_comments_153', 'comments_to_comments_154', 'comments_to_comments_155', 'comments_to_comments_156', 'comments_to_comments_157', 'comments_to_comments_158', 'comments_to_comments_159', 'comments_to_comments_160', 'comments_to_comments_161', 'comments_to_comments_162', 'comments_to_comments_163', 'comments_to_comments_164', 'comments_to_comments_165', 'comments_to_comments_166', 'comments_to_comments_167', 'comments_to_comments_168', 'comments_to_comments_169', 'comments_to_comments_170', 'comments_to_comments_171', 'comments_to_comments_172', 'comments_to_comments_173', 'comments_to_comments_174', 'comments_to_comments_175', 'comments_to_comments_176', 'comments_to_comments_177', 'comments_to_comments_178', 'comments_to_comments_179', 'comments_to_comments_180', 'comments_to_comments_181', 'comments_to_comments_182', 'comments_to_comments_183', 'comments_to_comments_184', 'comments_to_comments_185', 'comments_to_comments_186', 'comments_to_comments_187', 'comments_to_comments_188', 'comments_to_comments_189', 'comments_to_comments_190', 'comments_to_comments_191', 'comments_to_comments_192', 'comments_to_comments_193', 'comments_to_comments_194', 'comments_to_comments_195', 'comments_to_comments_196', 'comments_to_comments_197', 'comments_to_comments_198', 'comments_to_comments_199', 'comments_to_comments_200', 'comments_to_comments_201', 'comments_to_comments_202', 'comments_to_comments_203', 'comments_to_comments_204', 'comments_to_comments_205', 'comments_to_comments_206', 'comments_to_comments_207', 'comments_to_comments_208', 'comments_to_comments_209', 'comments_to_comments_210', 'comments_to_comments_211', 'comments_to_comments_212', 'comments_to_comments_213', 'comments_to_comments_214', 'comments_to_comments_215', 'comments_to_comments_216', 'comments_to_comments_217', 'comments_to_comments_218', 'comments_to_comments_219', 'comments_to_comments_220', 'comments_to_comments_221', 'comments_to_comments_222', 'comments_to_comments_223', 'comments_to_comments_224', 'comments_to_comments_225', 'comments_to_comments_226', 'comments_to_comments_227', 'comments_to_comments_228', 'comments_to_comments_229', 'comments_to_comments_230', 'comments_to_comments_231', 'comments_to_comments_232', 'comments_to_comments_233', 'comments_to_comments_234', 'comments_to_comments_235', 'comments_to_comments_236', 'comments_to_comments_237', 'comments_to_comments_238', 'comments_to_comments_239', 'comments_to_comments_240', 'comments_to_comments_241', 'comments_to_comments_242', 'comments_to_comments_243', 'comments_to_comments_244', 'comments_to_comments_245', 'comments_to_comments_246', 'comments_to_comments_247', 'comments_to_comments_248', 'comments_to_comments_249', 'comments_to_comments_250', 'comments_to_comments_251', 'comments_to_comments_252', 'comments_to_comments_253', 'comments_to_comments_254', 'comments_to_comments_255', 'comments_to_comments_256', 'comments_to_comments_257', 'comments_to_comments_258', 'comments_to_comments_259', 'comments_to_comments_260', 'comments_to_comments_261', 'comments_to_comments_262', 'comments_to_comments_263', 'comments_to_comments_264', 'comments_to_comments_265', 'comments_to_comments_266', 'comments_to_comments_267', 'comments_to_comments_268', 'comments_to_comments_269', 'comments_to_comments_270', 'comments_to_comments_271', 'comments_to_comments_272', 'comments_to_comments_273', 'comments_to_comments_274', 'comments_to_comments_275', 'comments_to_comments_276', 'comments_to_comments_277', 'comments_to_comments_278', 'comments_to_comments_279', 'comments_to_comments_280', 'comments_to_comments_281', 'comments_to_comments_282', 'comments_to_comments_283', 'comments_to_comments_284', 'comments_to_comments_285', 'comments_to_comments_286', 'comments_to_comments_287', 'comments_to_comments_288', 'comments_to_comments_289', 'comments_to_comments_290', 'comments_to_comments_291', 'comments_to_comments_292', 'comments_to_comments_293', 'comments_to_comments_294', 'comments_to_comments_295', 'comments_to_comments_296', 'comments_to_comments_297', 'comments_to_comments_298', 'comments_to_comments_299', 'comments_to_comments_300', 'comments_to_comments_301', 'comments_to_comments_302', 'comments_to_comments_303', 'comments_to_comments_304', 'comments_to_comments_305', 'comments_to_comments_306', 'comments_to_comments_307', 'comments_to_comments_308', 'comments_to_comments_309', 'comments_to_comments_310', 'comments_to_comments_311', 'comments_to_comments_312', 'comments_to_comments_313', 'comments_to_comments_314', 'comments_to_comments_315', 'comments_to_comments_316', 'comments_to_comments_317', 'comments_to_comments_318', 'comments_to_comments_319', 'comments_to_comments_320', 'comments_to_comments_321', 'comments_to_comments_322', 'comments_to_comments_323', 'comments_to_comments_324', 'comments_to_comments_325', 'comments_to_comments_326', 'comments_to_comments_327', 'comments_to_comments_328', 'comments_to_comments_329', 'comments_to_comments_330', 'comments_to_comments_331', 'comments_to_comments_332', 'comments_to_comments_333', 'comments_to_comments_334', 'comments_to_comments_335', 'comments_to_comments_336', 'comments_to_comments_337', 'comments_to_comments_338', 'comments_to_comments_339', 'comments_to_comments_340', 'comments_to_comments_341', 'comments_to_comments_342', 'comments_to_comments_343', 'comments_to_comments_344', 'comments_to_comments_345', 'comments_to_comments_346', 'comments_to_comments_347', 'comments_to_comments_348', 'comments_to_comments_349', 'comments_to_comments_350', 'comments_to_comments_351', 'comments_to_comments_352', 'comments_to_comments_353', 'comments_to_comments_354', 'comments_to_comments_355', 'comments_to_comments_356', 'comments_to_comments_357', 'comments_to_comments_358', 'comments_to_comments_359', 'comments_to_comments_360', 'comments_to_comments_361', 'comments_to_comments_362', 'comments_to_comments_363', 'comments_to_comments_364', 'comments_to_comments_365', 'comments_to_comments_366', 'comments_to_comments_367', 'comments_to_comments_368', 'comments_to_comments_369', 'comments_to_comments_370', 'comments_to_comments_371', 'comments_to_comments_372', 'comments_to_comments_373', 'comments_to_comments_374', 'comments_to_comments_375', 'comments_to_comments_376', 'comments_to_comments_377', 'comments_to_comments_378', 'comments_to_comments_379', 'comments_to_comments_380', 'comments_to_comments_381', 'comments_to_comments_382', 'comments_to_comments_383', 'comments_to_comments_384', 'comments_to_comments_385', 'comments_to_comments_386', 'comments_to_comments_387', 'comments_to_comments_388', 'comments_to_comments_389', 'comments_to_comments_390', 'comments_to_comments_391', 'comments_to_comments_392', 'comments_to_comments_393', 'comments_to_comments_394', 'comments_to_comments_395', 'comments_to_comments_396', 'comments_to_comments_397', 'comments_to_comments_398', 'comments_to_comments_399', 'comments_to_comments_400', 'comments_to_comments_401', 'comments_to_comments_402', 'comments_to_comments_403', 'comments_to_comments_404', 'comments_to_comments_405', 'comments_to_comments_406', 'comments_to_comments_407', 'comments_to_comments_408', 'comments_to_comments_409', 'comments_to_comments_410', 'comments_to_comments_411', 'comments_to_comments_412', 'comments_to_comments_413', 'comments_to_comments_414', 'comments_to_comments_415', 'comments_to_comments_416', 'comments_to_comments_417', 'comments_to_comments_418', 'comments_to_comments_419', 'comments_to_comments_420', 'comments_to_comments_421', 'comments_to_comments_422', 'comments_to_comments_423', 'comments_to_comments_424', 'comments_to_comments_425', 'comments_to_comments_426', 'comments_to_comments_427', 'comments_to_comments_428', 'comments_to_comments_429', 'comments_to_comments_430', 'comments_to_comments_431', 'comments_to_comments_432', 'comments_to_comments_433', 'comments_to_comments_434', 'comments_to_comments_435', 'comments_to_comments_436', 'comments_to_comments_437', 'comments_to_comments_438', 'comments_to_comments_439', 'comments_to_comments_440', 'comments_to_comments_441', 'comments_to_comments_442', 'comments_to_comments_443', 'comments_to_comments_444', 'comments_to_comments_445', 'comments_to_comments_446', 'comments_to_comments_447', 'comments_to_comments_448', 'comments_to_comments_449', 'comments_to_comments_450', 'comments_to_comments_451', 'comments_to_comments_452', 'comments_to_comments_453', 'comments_to_comments_454', 'comments_to_comments_455', 'comments_to_comments_456', 'comments_to_comments_457', 'comments_to_comments_458', 'comments_to_comments_459', 'comments_to_comments_460', 'comments_to_comments_461', 'comments_to_comments_462', 'comments_to_comments_463', 'comments_to_comments_464', 'comments_to_comments_465', 'comments_to_comments_466', 'comments_to_comments_467', 'comments_to_comments_468', 'comments_to_comments_469', 'comments_to_comments_470', 'comments_to_comments_471', 'comments_to_comments_472', 'comments_to_comments_473', 'comments_to_comments_474', 'comments_to_comments_475', 'comments_to_comments_476', 'comments_to_comments_477', 'comments_to_comments_478', 'comments_to_comments_479', 'comments_to_comments_480', 'comments_to_comments_481', 'comments_to_comments_482', 'comments_to_comments_483', 'comments_to_comments_484', 'comments_to_comments_485', 'comments_to_comments_486', 'comments_to_comments_487', 'comments_to_comments_488', 'comments_to_comments_489', 'comments_to_comments_490', 'comments_to_comments_491', 'comments_to_comments_492', 'comments_to_comments_493', 'comments_to_comments_494', 'comments_to_comments_495', 'comments_to_comments_496', 'comments_to_comments_497', 'comments_to_comments_498', 'comments_to_comments_499', 'comments_to_comments_500', 'comments_to_comments_501', 'comments_to_comments_502', 'comments_to_comments_503', 'comments_to_comments_504', 'comments_to_comments_505', 'comments_to_comments_506', 'comments_to_comments_507', 'comments_to_comments_508', 'comments_to_comments_509', 'comments_to_comments_510', 'comments_to_comments_511', 'comments_to_comments_512', 'comments_to_comments_513', 'comments_to_comments_514', 'comments_to_comments_515', 'comments_to_comments_516', 'comments_to_comments_517', 'comments_to_comments_518', 'comments_to_comments_519', 'comments_to_comments_520', 'comments_to_comments_521', 'comments_to_comments_522', 'comments_to_comments_523', 'comments_to_comments_524', 'comments_to_comments_525', 'comments_to_comments_526', 'comments_to_comments_527', 'comments_to_comments_528', 'comments_to_comments_529', 'comments_to_comments_530', 'comments_to_comments_531', 'comments_to_comments_532', 'comments_to_comments_533', 'comments_to_comments_534', 'comments_to_comments_535', 'comments_to_comments_536', 'comments_to_comments_537', 'comments_to_comments_538', 'comments_to_comments_539', 'comments_to_comments_540', 'comments_to_comments_541', 'comments_to_comments_542', 'comments_to_comments_543', 'comments_to_comments_544', 'comments_to_comments_545', 'comments_to_comments_546', 'comments_to_comments_547', 'comments_to_comments_548', 'comments_to_comments_549', 'comments_to_comments_550', 'comments_to_comments_551', 'comments_to_comments_552', 'comments_to_comments_553', 'comments_to_comments_554', 'comments_to_comments_555', 'comments_to_comments_556', 'comments_to_comments_557', 'comments_to_comments_558', 'comments_to_comments_559', 'comments_to_comments_560', 'comments_to_comments_561', 'comments_to_comments_562', 'comments_to_comments_563', 'comments_to_comments_564', 'comments_to_comments_565', 'comments_to_comments_566', 'comments_to_comments_567', 'comments_to_comments_568', 'comments_to_comments_569', 'comments_to_comments_570', 'comments_to_comments_571', 'comments_to_comments_572', 'comments_to_comments_573', 'comments_to_comments_574', 'comments_to_comments_575', 'comments_to_comments_576', 'comments_to_comments_577', 'comments_to_comments_578', 'comments_to_comments_579', 'comments_to_comments_580', 'comments_to_comments_581', 'comments_to_comments_582', 'comments_to_comments_583', 'comments_to_comments_584', 'comments_to_comments_585', 'comments_to_comments_586', 'comments_to_comments_587', 'comments_to_comments_588', 'comments_to_comments_589', 'comments_to_comments_590', 'comments_to_comments_591', 'comments_to_comments_592', 'comments_to_comments_593', 'comments_to_comments_594', 'comments_to_comments_595', 'comments_to_comments_596', 'comments_to_comments_597', 'comments_to_comments_598', 'comments_to_comments_599', 'comments_to_comments_600', 'comments_to_comments_601', 'comments_to_comments_602', 'comments_to_comments_603', 'comments_to_comments_604', 'comments_to_comments_605', 'comments_to_comments_606', 'comments_to_comments_607', 'comments_to_comments_608', 'comments_to_comments_609', 'comments_to_comments_610', 'comments_to_comments_611', 'comments_to_comments_612', 'comments_to_comments_613', 'comments_to_comments_614', 'comments_to_comments_615', 'comments_to_comments_616', 'comments_to_comments_617', 'comments_to_comments_618', 'comments_to_comments_619', 'comments_to_comments_620', 'comments_to_comments_621', 'comments_to_comments_622', 'comments_to_comments_623', 'comments_to_comments_624', 'comments_to_comments_625', 'comments_to_comments_626', 'comments_to_comments_627', 'comments_to_comments_628', 'comments_to_comments_629', 'comments_to_comments_630', 'comments_to_comments_631', 'comments_to_comments_632', 'comments_to_comments_633', 'comments_to_comments_634', 'comments_to_comments_635', 'comments_to_comments_636', 'comments_to_comments_637', 'comments_to_comments_638', 'comments_to_comments_639', 'comments_to_comments_640', 'comments_to_comments_641', 'comments_to_comments_642', 'comments_to_comments_643', 'comments_to_comments_644', 'comments_to_comments_645', 'comments_to_comments_646', 'comments_to_comments_647', 'comments_to_comments_648', 'comments_to_comments_649', 'comments_to_comments_650', 'comments_to_comments_651', 'comments_to_comments_652', 'comments_to_comments_653', 'comments_to_comments_654', 'comments_to_comments_655', 'comments_to_comments_656', 'comments_to_comments_657', 'comments_to_comments_658', 'comments_to_comments_659', 'comments_to_comments_660', 'comments_to_comments_661', 'comments_to_comments_662', 'comments_to_comments_663', 'comments_to_comments_664', 'comments_to_comments_665', 'comments_to_comments_666', 'comments_to_comments_667', 'comments_to_comments_668', 'comments_to_comments_669', 'comments_to_comments_670', 'comments_to_comments_671', 'comments_to_comments_672', 'comments_to_comments_673', 'comments_to_comments_674', 'comments_to_comments_675', 'comments_to_comments_676', 'comments_to_comments_677', 'comments_to_comments_678', 'comments_to_comments_679', 'comments_to_comments_680', 'comments_to_comments_681', 'comments_to_comments_682', 'comments_to_comments_683', 'comments_to_comments_684', 'comments_to_comments_685', 'comments_to_comments_686', 'comments_to_comments_687', 'comments_to_comments_688', 'comments_to_comments_689', 'comments_to_comments_690', 'comments_to_comments_691', 'comments_to_comments_692', 'comments_to_comments_693', 'comments_to_comments_694', 'comments_to_comments_695', 'comments_to_comments_696', 'comments_to_comments_697', 'comments_to_comments_698', 'comments_to_comments_699', 'comments_to_comments_700', 'comments_to_comments_701', 'comments_to_comments_702', 'comments_to_comments_703', 'comments_to_comments_704', 'comments_to_comments_705', 'comments_to_comments_706', 'comments_to_comments_707', 'comments_to_comments_708', 'comments_to_comments_709', 'comments_to_comments_710', 'comments_to_comments_711', 'comments_to_comments_712', 'comments_to_comments_713', 'comments_to_comments_714', 'comments_to_comments_715', 'comments_to_comments_716', 'comments_to_comments_717', 'comments_to_comments_718', 'comments_to_comments_719', 'comments_to_comments_720', 'comments_to_comments_721', 'comments_to_comments_722', 'comments_to_comments_723', 'comments_to_comments_724', 'comments_to_comments_725', 'comments_to_comments_726', 'comments_to_comments_727', 'comments_to_comments_728', 'comments_to_comments_729', 'comments_to_comments_730', 'comments_to_comments_731', 'comments_to_comments_732', 'comments_to_comments_733', 'comments_to_comments_734', 'comments_to_comments_735', 'comments_to_comments_736', 'comments_to_comments_737', 'comments_to_comments_738', 'comments_to_comments_739', 'comments_to_comments_740', 'comments_to_comments_741', 'comments_to_comments_742', 'comments_to_comments_743', 'comments_to_comments_744', 'comments_to_comments_745', 'comments_to_comments_746', 'comments_to_comments_747', 'comments_to_comments_748', 'comments_to_comments_749', 'comments_to_comments_750', 'comments_to_comments_751', 'comments_to_comments_752', 'comments_to_comments_753', 'comments_to_comments_754', 'comments_to_comments_755', 'comments_to_comments_756', 'comments_to_comments_757', 'comments_to_comments_758', 'comments_to_comments_759', 'comments_to_comments_760', 'comments_to_comments_761', 'comments_to_comments_762', 'comments_to_comments_763', 'comments_to_comments_764', 'comments_to_comments_765', 'comments_to_comments_766', 'comments_to_comments_767', 'comments_to_comments_768', 'comments_to_comments_769', 'comments_to_comments_770', 'comments_to_comments_771', 'comments_to_comments_772', 'comments_to_comments_773', 'comments_to_comments_774', 'comments_to_comments_775', 'comments_to_comments_776', 'comments_to_comments_777', 'comments_to_comments_778', 'comments_to_comments_779', 'comments_to_comments_780', 'comments_to_comments_781', 'comments_to_comments_782', 'comments_to_comments_783', 'comments_to_comments_784', 'comments_to_comments_785', 'comments_to_comments_786', 'comments_to_comments_787', 'comments_to_comments_788', 'comments_to_comments_789', 'comments_to_comments_790', 'comments_to_comments_791', 'comments_to_comments_792', 'comments_to_comments_793', 'comments_to_comments_794', 'comments_to_comments_795', 'comments_to_comments_796']\n",
      "[2025-04-07 16:41:17] Temp table comments_to_posts created | CPU: 0.0% | Mem: 14602.6 MB | Threads: 61\n",
      "[2025-04-07 16:41:24] Temp table comments_to_comments_1 created | CPU: 2.0% | Mem: 8145.1 MB | Threads: 61\n",
      "[2025-04-07 16:41:29] Temp table comments_to_comments_2 created | CPU: 1.0% | Mem: 7306.4 MB | Threads: 61\n",
      "[2025-04-07 16:41:33] Temp table comments_to_comments_3 created | CPU: 0.0% | Mem: 6840.7 MB | Threads: 61\n",
      "[2025-04-07 16:41:38] Temp table comments_to_comments_4 created | CPU: 0.0% | Mem: 6962.4 MB | Threads: 61\n",
      "[2025-04-07 16:41:41] Temp table comments_to_comments_5 created | CPU: 0.0% | Mem: 6575.7 MB | Threads: 61\n",
      "[2025-04-07 16:41:45] Temp table comments_to_comments_6 created | CPU: 1.0% | Mem: 6556.4 MB | Threads: 61\n"
     ]
    },
    {
     "name": "stdout",
     "output_type": "stream",
     "text": [
      "[2025-04-07 16:41:09] Monitoring during execution | CPU: 286.9% | Mem: 1527.0 MB | Threads: 61\n",
      "[2025-04-07 16:41:20] Monitoring during execution | CPU: 1441.8% | Mem: 8004.5 MB | Threads: 61\n",
      "[2025-04-07 16:41:31] Monitoring during execution | CPU: 1185.6% | Mem: 7724.1 MB | Threads: 61\n",
      "[2025-04-07 16:41:42] Monitoring during execution | CPU: 529.3% | Mem: 6486.1 MB | Threads: 61\n",
      "[2025-04-07 16:41:53] Monitoring during execution | CPU: 0.0% | Mem: 6646.7 MB | Threads: 61\n",
      "[2025-04-07 16:42:04] Monitoring during execution | CPU: 0.0% | Mem: 6646.7 MB | Threads: 61\n",
      "[2025-04-07 16:42:15] Monitoring during execution | CPU: 1.0% | Mem: 6646.7 MB | Threads: 61\n",
      "[2025-04-07 16:42:26] Monitoring during execution | CPU: 0.0% | Mem: 6646.7 MB | Threads: 61\n",
      "[2025-04-07 16:42:37] Monitoring during execution | CPU: 0.0% | Mem: 6646.7 MB | Threads: 61\n",
      "[2025-04-07 16:42:48] Monitoring during execution | CPU: 0.0% | Mem: 6646.7 MB | Threads: 61\n",
      "[2025-04-07 16:42:59] Monitoring during execution | CPU: 0.0% | Mem: 6646.7 MB | Threads: 61\n",
      "[2025-04-07 16:43:10] Monitoring during execution | CPU: 0.0% | Mem: 6646.7 MB | Threads: 61\n",
      "[2025-04-07 16:43:21] Monitoring during execution | CPU: 0.0% | Mem: 6646.7 MB | Threads: 61\n",
      "[2025-04-07 16:43:32] Monitoring during execution | CPU: 0.0% | Mem: 6646.7 MB | Threads: 61\n",
      "[2025-04-07 16:43:43] Monitoring during execution | CPU: 0.0% | Mem: 6646.7 MB | Threads: 61\n",
      "[2025-04-07 16:43:54] Monitoring during execution | CPU: 0.0% | Mem: 6646.7 MB | Threads: 61\n",
      "[2025-04-07 16:44:05] Monitoring during execution | CPU: 1.0% | Mem: 6646.7 MB | Threads: 61\n",
      "[2025-04-07 16:44:16] Monitoring during execution | CPU: 0.0% | Mem: 6646.7 MB | Threads: 61\n",
      "[2025-04-07 16:44:27] Monitoring during execution | CPU: 0.0% | Mem: 6646.7 MB | Threads: 61\n",
      "[2025-04-07 16:44:38] Monitoring during execution | CPU: 0.0% | Mem: 6646.7 MB | Threads: 61\n",
      "[2025-04-07 16:44:49] Monitoring during execution | CPU: 0.0% | Mem: 6646.7 MB | Threads: 61\n",
      "[2025-04-07 16:45:00] Monitoring during execution | CPU: 1.0% | Mem: 6646.7 MB | Threads: 61\n",
      "[2025-04-07 16:45:11] Monitoring during execution | CPU: 0.0% | Mem: 6646.7 MB | Threads: 61\n",
      "[2025-04-07 16:45:22] Monitoring during execution | CPU: 0.0% | Mem: 6646.7 MB | Threads: 61\n",
      "[2025-04-07 16:45:33] Monitoring during execution | CPU: 0.0% | Mem: 6646.7 MB | Threads: 61\n",
      "[2025-04-07 16:45:44] Monitoring during execution | CPU: 0.0% | Mem: 6646.7 MB | Threads: 61\n",
      "[2025-04-07 16:45:55] Monitoring during execution | CPU: 0.0% | Mem: 6646.7 MB | Threads: 61\n",
      "[2025-04-07 16:46:06] Monitoring during execution | CPU: 0.0% | Mem: 6646.7 MB | Threads: 61\n",
      "[2025-04-07 16:46:17] Monitoring during execution | CPU: 0.0% | Mem: 6646.7 MB | Threads: 61\n",
      "[2025-04-07 16:46:28] Monitoring during execution | CPU: 0.0% | Mem: 6646.7 MB | Threads: 61\n",
      "[2025-04-07 16:46:39] Monitoring during execution | CPU: 0.0% | Mem: 6646.7 MB | Threads: 61\n",
      "[2025-04-07 16:46:50] Monitoring during execution | CPU: 0.0% | Mem: 6646.7 MB | Threads: 61\n",
      "[2025-04-07 16:47:01] Monitoring during execution | CPU: 0.0% | Mem: 6646.7 MB | Threads: 61\n",
      "[2025-04-07 16:47:12] Monitoring during execution | CPU: 0.0% | Mem: 6646.7 MB | Threads: 61\n",
      "[2025-04-07 16:47:23] Monitoring during execution | CPU: 0.0% | Mem: 6646.7 MB | Threads: 61\n",
      "[2025-04-07 16:47:34] Monitoring during execution | CPU: 1.0% | Mem: 6646.7 MB | Threads: 61\n",
      "[2025-04-07 16:47:45] Monitoring during execution | CPU: 0.0% | Mem: 6646.7 MB | Threads: 61\n",
      "[2025-04-07 16:47:56] Monitoring during execution | CPU: 0.0% | Mem: 6646.7 MB | Threads: 61\n",
      "[2025-04-07 16:48:07] Monitoring during execution | CPU: 0.0% | Mem: 6646.7 MB | Threads: 61\n",
      "[2025-04-07 16:48:18] Monitoring during execution | CPU: 0.0% | Mem: 6646.7 MB | Threads: 61\n",
      "[2025-04-07 16:48:29] Monitoring during execution | CPU: 0.0% | Mem: 6646.7 MB | Threads: 61\n"
     ]
    },
    {
     "ename": "RuntimeError",
     "evalue": "Query interrupted",
     "output_type": "error",
     "traceback": [
      "\u001b[0;31m---------------------------------------------------------------------------\u001b[0m",
      "\u001b[0;31mKeyboardInterrupt\u001b[0m                         Traceback (most recent call last)",
      "\u001b[0;31mKeyboardInterrupt\u001b[0m: ",
      "\nThe above exception was the direct cause of the following exception:\n",
      "\u001b[0;31mRuntimeError\u001b[0m                              Traceback (most recent call last)",
      "Cell \u001b[0;32mIn[3], line 1\u001b[0m\n\u001b[0;32m----> 1\u001b[0m \u001b[43mcreate_lookup_table\u001b[49m\u001b[43m(\u001b[49m\u001b[43mcon\u001b[49m\u001b[43m)\u001b[49m\n",
      "File \u001b[0;32m~/reddit_project/python_files/create_database.py:379\u001b[0m, in \u001b[0;36mcreate_lookup_table\u001b[0;34m(con)\u001b[0m\n\u001b[1;32m    377\u001b[0m \u001b[38;5;28;01mfor\u001b[39;00m table_name, subquery \u001b[38;5;129;01min\u001b[39;00m subqueries:\n\u001b[1;32m    378\u001b[0m     temp_sql \u001b[38;5;241m=\u001b[39m \u001b[38;5;124mf\u001b[39m\u001b[38;5;124m\"\u001b[39m\u001b[38;5;124mCREATE TEMP TABLE temp_\u001b[39m\u001b[38;5;132;01m{\u001b[39;00mtable_name\u001b[38;5;132;01m}\u001b[39;00m\u001b[38;5;124m AS\u001b[39m\u001b[38;5;130;01m\\n\u001b[39;00m\u001b[38;5;132;01m{\u001b[39;00msubquery\u001b[38;5;132;01m}\u001b[39;00m\u001b[38;5;124m\"\u001b[39m\n\u001b[0;32m--> 379\u001b[0m     \u001b[43mcon\u001b[49m\u001b[38;5;241;43m.\u001b[39;49m\u001b[43mexecute\u001b[49m\u001b[43m(\u001b[49m\u001b[43mtemp_sql\u001b[49m\u001b[43m)\u001b[49m\n\u001b[1;32m    380\u001b[0m     con\u001b[38;5;241m.\u001b[39mcommit()\n\u001b[1;32m    381\u001b[0m     log_with_resources(\u001b[38;5;124mf\u001b[39m\u001b[38;5;124m\"\u001b[39m\u001b[38;5;124mTemp table \u001b[39m\u001b[38;5;132;01m{\u001b[39;00mtable_name\u001b[38;5;132;01m}\u001b[39;00m\u001b[38;5;124m created\u001b[39m\u001b[38;5;124m\"\u001b[39m)\n",
      "\u001b[0;31mRuntimeError\u001b[0m: Query interrupted"
     ]
    }
   ],
   "source": [
    "create_lookup_table(con)"
   ]
  },
  {
   "cell_type": "code",
   "execution_count": null,
   "metadata": {},
   "outputs": [],
   "source": [
    "table_stats(\"lookup_table\", con)\n",
    "calculate_weighted_average(\"thread_lengths_lookup_table\")\n",
    "calculate_weighted_average(\"thread_widths_lookup_table\")\n",
    "calculate_weighted_average(\"all_widths_lookup_table\")"
   ]
  },
  {
   "cell_type": "code",
   "execution_count": null,
   "metadata": {},
   "outputs": [],
   "source": [
    "create_threads_table(con, \"all_threads\")"
   ]
  },
  {
   "cell_type": "code",
   "execution_count": null,
   "metadata": {},
   "outputs": [],
   "source": [
    "make_threads_unique(con, \"threads\")\n",
    "filter_threads(con, \"threads\", num_authors=3)"
   ]
  },
  {
   "cell_type": "code",
   "execution_count": null,
   "metadata": {},
   "outputs": [],
   "source": [
    "get_depth_distribution(\"threads\", con)\n",
    "get_depth_distribution(\"filtered_threads\", con)\n",
    "get_thread_lengths(\"threads\", con)\n",
    "get_thread_lengths(\"filtered_threads\", con)\n",
    "get_number_of_threads(\"threads\", con)\n",
    "get_number_of_threads(\"filtered_threads\", con)\n",
    "get_thread_score_distribution(\"threads\", con)\n",
    "get_thread_score_distribution(\"filtered_threads\", con)\n",
    "get_subreddit_distribution(\"threads\", con)\n",
    "get_subreddit_distribution(\"filtered_threads\", con)\n",
    "get_author_distribution(\"threads\", con)\n",
    "get_author_distribution(\"filtered_threads\", con)"
   ]
  },
  {
   "cell_type": "code",
   "execution_count": null,
   "metadata": {},
   "outputs": [],
   "source": [
    "with open(\"../data/saved_stats.json\", \"r\") as f:\n",
    "    existing_data = json.load(f)\n",
    "distribution = existing_data[\"subreddit_distribution_threads\"]\n",
    "subreddits = [\n",
    "    key\n",
    "    for key, value in sorted(distribution.items(), key=lambda x: x[1], reverse=True)[:5]\n",
    "]\n",
    "for subreddit in subreddits:\n",
    "    create_subreddit_tables(con, subreddit)\n",
    "    table_stats(f\"{subreddit}_lookup\", con)\n",
    "    calculate_weighted_average(f\"thread_lengths_{subreddit}_lookup\")\n",
    "    calculate_weighted_average(f\"thread_widths_{subreddit}_lookup\")\n",
    "    calculate_weighted_average(f\"all_widths_{subreddit}_lookup\")\n",
    "    get_depth_distribution(f\"{subreddit}_threads\", con)\n",
    "    get_depth_distribution(f\"filtered_{subreddit}_threads\", con)\n",
    "    get_thread_lengths(f\"{subreddit}_threads\", con)\n",
    "    get_thread_lengths(f\"filtered_{subreddit}_threads\", con)\n",
    "    get_number_of_threads(f\"{subreddit}_threads\", con)\n",
    "    get_number_of_threads(f\"filtered_{subreddit}_threads\", con)\n",
    "    get_thread_score_distribution(f\"{subreddit}_threads\", con)\n",
    "    get_thread_score_distribution(f\"filtered_{subreddit}_threads\", con)\n",
    "    get_author_distribution(f\"{subreddit}_threads\", con)\n",
    "    get_author_distribution(f\"filtered_{subreddit}_threads\", con)"
   ]
  },
  {
   "cell_type": "code",
   "execution_count": 5,
   "metadata": {},
   "outputs": [
    {
     "name": "stdout",
     "output_type": "stream",
     "text": [
      "[2025-04-08 08:56:40] Script finished | CPU: 0.0% | Mem: 186.4 MB | Threads: 60\n"
     ]
    }
   ],
   "source": [
    "monitoring_active = False\n",
    "monitor_thread.join()  # optional, if you want to ensure it has stopped before exiting\n",
    "log_with_resources(\"Script finished\")\n",
    "con.commit()\n",
    "con.close()"
   ]
  }
 ],
 "metadata": {
  "kernelspec": {
   "display_name": "env",
   "language": "python",
   "name": "python3"
  },
  "language_info": {
   "codemirror_mode": {
    "name": "ipython",
    "version": 3
   },
   "file_extension": ".py",
   "mimetype": "text/x-python",
   "name": "python",
   "nbconvert_exporter": "python",
   "pygments_lexer": "ipython3",
   "version": "3.12.3"
  }
 },
 "nbformat": 4,
 "nbformat_minor": 2
}
